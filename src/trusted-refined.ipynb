{
 "cells": [
  {
   "cell_type": "code",
   "execution_count": 0,
   "metadata": {
    "application/vnd.databricks.v1+cell": {
     "cellMetadata": {
      "byteLimit": 2048000,
      "rowLimit": 10000
     },
     "inputWidgets": {},
     "nuid": "db113994-0e0c-4e7e-89b9-428797baf15c",
     "showTitle": false,
     "tableResultSettingsMap": {},
     "title": ""
    }
   },
   "outputs": [],
   "source": [
    "from pyspark.sql.functions import col\n",
    "\n",
    "# Lê e trata o taxi verde\n",
    "df_verde = spark.read.table(\"`trusted-zone`.tb_corrida_taxi_verde\")\n",
    "# Lê e trata o taxi amarelo\n",
    "df_amarelo = spark.read.table(\"`trusted-zone`.tb_corrida_taxi_amarelo\")\n",
    "\n",
    "# Colunas que quero manter\n",
    "colunas_selecionadas = [\n",
    "    \"cod_motorista\",\n",
    "    \"dt_hr_inicio\",\n",
    "    \"dt_hr_fim\",\n",
    "    \"qtd_pessoas\",\n",
    "    \"vlr_total\",\n",
    "    \"origem_taxi\"\n",
    "]\n",
    "\n",
    "data_inicio = \"2023-01-01T00:00:00.000+00:00\"\n",
    "data_fim = \"2023-05-31T23:59:59.000+00:00\"\n",
    "\n",
    "df_verde_sel = (\n",
    "    df_verde\n",
    "    .filter((col(\"dt_hr_inicio\") >= data_inicio) & (col(\"dt_hr_inicio\") <= data_fim))\n",
    "    .select(colunas_selecionadas)\n",
    ")\n",
    "\n",
    "df_amarelo_sel = (\n",
    "    df_amarelo\n",
    "    .filter((col(\"dt_hr_inicio\") >= data_inicio) & (col(\"dt_hr_inicio\") <= data_fim))\n",
    "    .select(colunas_selecionadas)\n",
    ")\n",
    "\n",
    "# Une os dois datasets\n",
    "df_union = df_verde_sel.unionByName(df_amarelo_sel)\n",
    "\n",
    "# Salva na tabela refined\n",
    "df_union.write.mode(\"overwrite\").saveAsTable(\"`refined-zone`.tb_corrida_taxi_unificado\")\n",
    "\n",
    "\n"
   ]
  }
 ],
 "metadata": {
  "application/vnd.databricks.v1+notebook": {
   "computePreferences": null,
   "dashboards": [],
   "environmentMetadata": {
    "base_environment": "",
    "environment_version": "2"
   },
   "inputWidgetPreferences": null,
   "language": "python",
   "notebookMetadata": {
    "pythonIndentUnit": 4
   },
   "notebookName": "trusted-refined",
   "widgets": {}
  },
  "language_info": {
   "name": "python"
  }
 },
 "nbformat": 4,
 "nbformat_minor": 0
}